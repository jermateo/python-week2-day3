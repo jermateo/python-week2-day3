{
 "cells": [
  {
   "cell_type": "markdown",
   "metadata": {},
   "source": [
    "### Exercise 1"
   ]
  },
  {
   "cell_type": "markdown",
   "metadata": {},
   "source": [
    "Given an array of positive integers `nums`, return a list of all of the negative integers.<br>\n",
    "Ex. 1<br>\n",
    "nums = [1, 3, 5, 7, 8]<br>\n",
    "Expected Output: [-1, -3, -5, -7, -8]<br>\n",
    "\n",
    "Ex. 2<br>\n",
    "nums = [100, 534, 32, 15, 77, 222, 788, 345, 75645, 22]<br>\n",
    "Expected Output: [-100, -534, -32, -15, -77, -222, -788, -345, -75645, -22]<br>"
   ]
  },
  {
   "cell_type": "code",
   "execution_count": 4,
   "metadata": {},
   "outputs": [
    {
     "name": "stdout",
     "output_type": "stream",
     "text": [
      "[-1, -3, -5, -7, -8]\n",
      "[-100, -534, -32, -15, -77, -222, -788, -345, -75645, -22]\n"
     ]
    }
   ],
   "source": [
    "# Take array into function\n",
    "# Create new list for negative numbers\n",
    "# Take all int in array and subtract by same number*2\n",
    "# Append into new list for each number\n",
    "# Return list\n",
    "\n",
    "def neg_nums(array):\n",
    "    negatives = []\n",
    "    for num in array:\n",
    "        new_num = num - num*2\n",
    "        negatives.append(new_num)\n",
    "    return negatives\n",
    "\n",
    "nums1 = [1, 3, 5, 7, 8]\n",
    "nums2 = [100, 534, 32, 15, 77, 222, 788, 345, 75645, 22]\n",
    "print(neg_nums(nums1))\n",
    "print(neg_nums(nums2))"
   ]
  },
  {
   "cell_type": "markdown",
   "metadata": {},
   "source": [
    "### Exercise 2"
   ]
  },
  {
   "cell_type": "markdown",
   "metadata": {},
   "source": [
    "Given a string, return a list of all of the digits in the string.<br>\n",
    "Ex. 1 <br>\n",
    "address = \"123 Real Street, Apt. 2, Springfield, OR 43498\"<br>\n",
    "Expected Output: ['1', '2', '3', '2', '4', '3', '4', '9', '8']<br>\n",
    "\n",
    "Ex. 2 <br>\n",
    "sentence = \"My phone number is (555) 555-4321\"<br>\n",
    "Expected Output: ['5', '5', '5', '5', '5', '5', '4', '3', '2', '1']<br>"
   ]
  },
  {
   "cell_type": "code",
   "execution_count": 10,
   "metadata": {},
   "outputs": [
    {
     "name": "stdout",
     "output_type": "stream",
     "text": [
      "['5', '5', '4', '5', '4', '5', '6', '7']\n",
      "['2', '0', '6', '3', '5', '5', '9', '8', '4', '5', '1', '2', '0', '6', '7', '6', '7', '0', '1', '7', '7']\n"
     ]
    }
   ],
   "source": [
    "# Hint: Look at the string methods! -- help(str)\n",
    "\n",
    "# Take string into function\n",
    "# Create new list for digits\n",
    "# Define list of integers to look for\n",
    "# Run through characters and determine if digits match digit in integer list\n",
    "# Add to new list for digits\n",
    "# Return digits list\n",
    "\n",
    "def find_digits(str_inp):\n",
    "    digits = []\n",
    "    integers = ['1', '2', '3', '4', '5', '6', '7', '8', '9', '0']\n",
    "    for chars in str_inp:\n",
    "        if chars in integers:\n",
    "            digits.append(chars)\n",
    "    return digits\n",
    "\n",
    "first_string = 'Hello 55 goodbye 45 (45) 6 - 7'\n",
    "second_string = '(206) 355-9845 is my 1st phone number. My 2nd one is (206) 767-0177'\n",
    "print(find_digits(first_string))\n",
    "print(find_digits(second_string))"
   ]
  },
  {
   "cell_type": "markdown",
   "metadata": {},
   "source": [
    "### Exercise 3"
   ]
  },
  {
   "cell_type": "markdown",
   "metadata": {},
   "source": [
    "Given a string `digits`, return a **string** of the digits + 1<br>\n",
    "\n",
    "Ex. 1<br>\n",
    "digits = '123'<br>\n",
    "Expected Output: '124'<br>\n",
    "\n",
    "Ex. 2<br>\n",
    "digits = '99'<br>\n",
    "Expected Output: '100'<br>"
   ]
  },
  {
   "cell_type": "code",
   "execution_count": 15,
   "metadata": {},
   "outputs": [
    {
     "name": "stdout",
     "output_type": "stream",
     "text": [
      "124\n",
      "168\n",
      "201\n"
     ]
    }
   ],
   "source": [
    "# Take string into function\n",
    "# Change string to int\n",
    "# Add 1 to int\n",
    "# Convert back to string\n",
    "# Return new string\n",
    "\n",
    "def add_one(number):\n",
    "    dt_number = int(number)\n",
    "    new_number = dt_number + 1\n",
    "    return str(new_number)\n",
    "\n",
    "print(add_one(123))\n",
    "print(add_one(167))\n",
    "print(add_one(200))"
   ]
  }
 ],
 "metadata": {
  "kernelspec": {
   "display_name": "Python 3 (ipykernel)",
   "language": "python",
   "name": "python3"
  },
  "language_info": {
   "codemirror_mode": {
    "name": "ipython",
    "version": 3
   },
   "file_extension": ".py",
   "mimetype": "text/x-python",
   "name": "python",
   "nbconvert_exporter": "python",
   "pygments_lexer": "ipython3",
   "version": "3.10.9"
  }
 },
 "nbformat": 4,
 "nbformat_minor": 4
}
